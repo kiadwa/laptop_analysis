{
 "cells": [
  {
   "cell_type": "code",
   "execution_count": 1,
   "metadata": {
    "_cell_guid": "b1076dfc-b9ad-4769-8c92-a6c4dae69d19",
    "_uuid": "8f2839f25d086af736a60e9eeb907d3b93b6e0e5",
    "execution": {
     "iopub.execute_input": "2022-05-02T18:39:22.827156Z",
     "iopub.status.busy": "2022-05-02T18:39:22.826835Z",
     "iopub.status.idle": "2022-05-02T18:39:22.844284Z",
     "shell.execute_reply": "2022-05-02T18:39:22.843344Z",
     "shell.execute_reply.started": "2022-05-02T18:39:22.827121Z"
    }
   },
   "outputs": [],
   "source": [
    "# This Python 3 environment comes with many helpful analytics libraries installed\n",
    "# It is defined by the kaggle/python Docker image: https://github.com/kaggle/docker-python\n",
    "# For example, here's several helpful packages to load\n",
    "\n",
    "import numpy as np # linear algebra\n",
    "import pandas as pd # data processing, CSV file I/O (e.g. pd.read_csv)\n",
    "\n",
    "# Input data files are available in the read-only \"../input/\" directory\n",
    "# For example, running this (by clicking run or pressing Shift+Enter) will list all files under the input directory\n",
    "\n",
    "import os\n",
    "for dirname, _, filenames in os.walk('/kaggle/input'):\n",
    "    for filename in filenames:\n",
    "        print(os.path.join(dirname, filename))\n",
    "\n",
    "# You can write up to 20GB to the current directory (/kaggle/working/) that gets preserved as output when you create a version using \"Save & Run All\" \n",
    "# You can also write temporary files to /kaggle/temp/, but they won't be saved outside of the current session"
   ]
  },
  {
   "cell_type": "markdown",
   "metadata": {},
   "source": [
    "## 1. Import data and Cleaning"
   ]
  },
  {
   "cell_type": "code",
   "execution_count": 2,
   "metadata": {
    "execution": {
     "iopub.execute_input": "2022-05-02T18:39:22.885757Z",
     "iopub.status.busy": "2022-05-02T18:39:22.884997Z",
     "iopub.status.idle": "2022-05-02T18:39:22.902983Z",
     "shell.execute_reply": "2022-05-02T18:39:22.902330Z",
     "shell.execute_reply.started": "2022-05-02T18:39:22.885709Z"
    }
   },
   "outputs": [],
   "source": [
    "#import data\n",
    "\n",
    "file_path=r'Laptop.csv'\n",
    "\n",
    "laptop = pd.read_csv(file_path)\n"
   ]
  },
  {
   "cell_type": "code",
   "execution_count": 3,
   "metadata": {
    "execution": {
     "iopub.execute_input": "2022-05-02T18:39:22.953155Z",
     "iopub.status.busy": "2022-05-02T18:39:22.952872Z",
     "iopub.status.idle": "2022-05-02T18:39:22.971317Z",
     "shell.execute_reply": "2022-05-02T18:39:22.970628Z",
     "shell.execute_reply.started": "2022-05-02T18:39:22.953126Z"
    }
   },
   "outputs": [
    {
     "data": {
      "text/html": [
       "<div>\n",
       "<style scoped>\n",
       "    .dataframe tbody tr th:only-of-type {\n",
       "        vertical-align: middle;\n",
       "    }\n",
       "\n",
       "    .dataframe tbody tr th {\n",
       "        vertical-align: top;\n",
       "    }\n",
       "\n",
       "    .dataframe thead th {\n",
       "        text-align: right;\n",
       "    }\n",
       "</style>\n",
       "<table border=\"1\" class=\"dataframe\">\n",
       "  <thead>\n",
       "    <tr style=\"text-align: right;\">\n",
       "      <th></th>\n",
       "      <th>Unnamed: 0</th>\n",
       "      <th>Brand</th>\n",
       "      <th>Model</th>\n",
       "      <th>Series</th>\n",
       "      <th>Processor</th>\n",
       "      <th>Processor_Gen</th>\n",
       "      <th>RAM</th>\n",
       "      <th>Hard_Disk_Capacity</th>\n",
       "      <th>OS</th>\n",
       "      <th>Rating</th>\n",
       "      <th>Price</th>\n",
       "    </tr>\n",
       "  </thead>\n",
       "  <tbody>\n",
       "    <tr>\n",
       "      <th>0</th>\n",
       "      <td>0</td>\n",
       "      <td>DELL</td>\n",
       "      <td>Inspiron</td>\n",
       "      <td>NaN</td>\n",
       "      <td>i3</td>\n",
       "      <td>11th</td>\n",
       "      <td>8.0</td>\n",
       "      <td>1 TB HDD</td>\n",
       "      <td>Windows 11 Home</td>\n",
       "      <td>3.7</td>\n",
       "      <td>39040</td>\n",
       "    </tr>\n",
       "    <tr>\n",
       "      <th>1</th>\n",
       "      <td>1</td>\n",
       "      <td>DELL</td>\n",
       "      <td>Vostro</td>\n",
       "      <td>NaN</td>\n",
       "      <td>i5</td>\n",
       "      <td>11th</td>\n",
       "      <td>8.0</td>\n",
       "      <td>1 TB HDD</td>\n",
       "      <td>Windows 10 Home</td>\n",
       "      <td>3.6</td>\n",
       "      <td>50840</td>\n",
       "    </tr>\n",
       "    <tr>\n",
       "      <th>2</th>\n",
       "      <td>2</td>\n",
       "      <td>ASUS</td>\n",
       "      <td>VivoBook</td>\n",
       "      <td>15</td>\n",
       "      <td>i3</td>\n",
       "      <td>10th</td>\n",
       "      <td>8.0</td>\n",
       "      <td>512 GB SSD</td>\n",
       "      <td>Windows 11 Home</td>\n",
       "      <td>4.3</td>\n",
       "      <td>37940</td>\n",
       "    </tr>\n",
       "    <tr>\n",
       "      <th>3</th>\n",
       "      <td>3</td>\n",
       "      <td>DELL</td>\n",
       "      <td>Inspiron</td>\n",
       "      <td>NaN</td>\n",
       "      <td>i3</td>\n",
       "      <td>11th</td>\n",
       "      <td>8.0</td>\n",
       "      <td>1 TB HDD</td>\n",
       "      <td>256 GB SSD</td>\n",
       "      <td>4.4</td>\n",
       "      <td>44440</td>\n",
       "    </tr>\n",
       "    <tr>\n",
       "      <th>4</th>\n",
       "      <td>4</td>\n",
       "      <td>ASUS</td>\n",
       "      <td>TUF</td>\n",
       "      <td>Gaming</td>\n",
       "      <td>i5</td>\n",
       "      <td>10th</td>\n",
       "      <td>8.0</td>\n",
       "      <td>512 GB SSD</td>\n",
       "      <td>Windows 10 Home</td>\n",
       "      <td>4.5</td>\n",
       "      <td>57940</td>\n",
       "    </tr>\n",
       "  </tbody>\n",
       "</table>\n",
       "</div>"
      ],
      "text/plain": [
       "   Unnamed: 0 Brand     Model  Series Processor Processor_Gen  RAM  \\\n",
       "0           0  DELL  Inspiron     NaN        i3          11th  8.0   \n",
       "1           1  DELL    Vostro     NaN        i5          11th  8.0   \n",
       "2           2  ASUS  VivoBook      15        i3          10th  8.0   \n",
       "3           3  DELL  Inspiron     NaN        i3          11th  8.0   \n",
       "4           4  ASUS       TUF  Gaming        i5          10th  8.0   \n",
       "\n",
       "  Hard_Disk_Capacity               OS  Rating  Price  \n",
       "0           1 TB HDD  Windows 11 Home     3.7  39040  \n",
       "1           1 TB HDD  Windows 10 Home     3.6  50840  \n",
       "2         512 GB SSD  Windows 11 Home     4.3  37940  \n",
       "3           1 TB HDD       256 GB SSD     4.4  44440  \n",
       "4         512 GB SSD  Windows 10 Home     4.5  57940  "
      ]
     },
     "execution_count": 3,
     "metadata": {},
     "output_type": "execute_result"
    }
   ],
   "source": [
    "laptop.head()"
   ]
  },
  {
   "cell_type": "markdown",
   "metadata": {},
   "source": [
    "Remove 'Unnamed' column"
   ]
  },
  {
   "cell_type": "code",
   "execution_count": 4,
   "metadata": {
    "execution": {
     "iopub.execute_input": "2022-05-02T18:39:23.017183Z",
     "iopub.status.busy": "2022-05-02T18:39:23.016733Z",
     "iopub.status.idle": "2022-05-02T18:39:23.024637Z",
     "shell.execute_reply": "2022-05-02T18:39:23.023733Z",
     "shell.execute_reply.started": "2022-05-02T18:39:23.017152Z"
    }
   },
   "outputs": [
    {
     "data": {
      "text/plain": [
       "Index(['Brand', 'Model', 'Series', 'Processor', 'Processor_Gen', 'RAM',\n",
       "       'Hard_Disk_Capacity', 'OS', 'Rating', 'Price'],\n",
       "      dtype='object')"
      ]
     },
     "execution_count": 4,
     "metadata": {},
     "output_type": "execute_result"
    }
   ],
   "source": [
    "#delete Unnamed column\n",
    "\n",
    "\n",
    "del laptop['Unnamed: 0']\n",
    "laptop.columns\n"
   ]
  },
  {
   "cell_type": "markdown",
   "metadata": {},
   "source": [
    "## Viewing overall of the dataset"
   ]
  },
  {
   "cell_type": "code",
   "execution_count": 5,
   "metadata": {
    "execution": {
     "iopub.execute_input": "2022-05-02T18:39:23.080765Z",
     "iopub.status.busy": "2022-05-02T18:39:23.080087Z",
     "iopub.status.idle": "2022-05-02T18:39:23.087374Z",
     "shell.execute_reply": "2022-05-02T18:39:23.086341Z",
     "shell.execute_reply.started": "2022-05-02T18:39:23.080700Z"
    }
   },
   "outputs": [
    {
     "data": {
      "text/plain": [
       "Brand                 False\n",
       "Model                  True\n",
       "Series                 True\n",
       "Processor              True\n",
       "Processor_Gen          True\n",
       "RAM                    True\n",
       "Hard_Disk_Capacity     True\n",
       "OS                     True\n",
       "Rating                False\n",
       "Price                 False\n",
       "dtype: bool"
      ]
     },
     "execution_count": 5,
     "metadata": {},
     "output_type": "execute_result"
    }
   ],
   "source": [
    "#check for number of values and number of null values\n",
    "laptop.shape[0]\n",
    "laptop.isnull().any()"
   ]
  },
  {
   "cell_type": "code",
   "execution_count": 6,
   "metadata": {
    "execution": {
     "iopub.execute_input": "2022-05-02T18:39:23.145237Z",
     "iopub.status.busy": "2022-05-02T18:39:23.144597Z",
     "iopub.status.idle": "2022-05-02T18:39:23.159783Z",
     "shell.execute_reply": "2022-05-02T18:39:23.158541Z",
     "shell.execute_reply.started": "2022-05-02T18:39:23.145188Z"
    }
   },
   "outputs": [
    {
     "name": "stdout",
     "output_type": "stream",
     "text": [
      "<class 'pandas.core.frame.DataFrame'>\n",
      "RangeIndex: 130 entries, 0 to 129\n",
      "Data columns (total 10 columns):\n",
      " #   Column              Non-Null Count  Dtype  \n",
      "---  ------              --------------  -----  \n",
      " 0   Brand               130 non-null    object \n",
      " 1   Model               116 non-null    object \n",
      " 2   Series              80 non-null     object \n",
      " 3   Processor           123 non-null    object \n",
      " 4   Processor_Gen       123 non-null    object \n",
      " 5   RAM                 122 non-null    float64\n",
      " 6   Hard_Disk_Capacity  122 non-null    object \n",
      " 7   OS                  122 non-null    object \n",
      " 8   Rating              130 non-null    float64\n",
      " 9   Price               130 non-null    int64  \n",
      "dtypes: float64(2), int64(1), object(7)\n",
      "memory usage: 10.3+ KB\n"
     ]
    }
   ],
   "source": [
    "#viewing overall data types\n",
    "laptop.info()"
   ]
  },
  {
   "cell_type": "markdown",
   "metadata": {},
   "source": [
    "## Data Cleaning"
   ]
  },
  {
   "cell_type": "markdown",
   "metadata": {},
   "source": [
    "Checking unique value of 'Brand' column"
   ]
  },
  {
   "cell_type": "code",
   "execution_count": 7,
   "metadata": {
    "execution": {
     "iopub.execute_input": "2022-05-02T18:39:23.207636Z",
     "iopub.status.busy": "2022-05-02T18:39:23.206949Z",
     "iopub.status.idle": "2022-05-02T18:39:23.215117Z",
     "shell.execute_reply": "2022-05-02T18:39:23.213955Z",
     "shell.execute_reply.started": "2022-05-02T18:39:23.207579Z"
    }
   },
   "outputs": [
    {
     "data": {
      "text/plain": [
       "array(['DELL', 'ASUS', 'Lenovo', 'HP', 'acer', 'APPLE', 'MSI', 'realme',\n",
       "       'MICROSOFT'], dtype=object)"
      ]
     },
     "execution_count": 7,
     "metadata": {},
     "output_type": "execute_result"
    }
   ],
   "source": [
    "laptop.Brand.unique()"
   ]
  },
  {
   "cell_type": "markdown",
   "metadata": {},
   "source": [
    "Convert 'Brand' value to lower for unnecessary case error and duplicates"
   ]
  },
  {
   "cell_type": "code",
   "execution_count": 8,
   "metadata": {
    "execution": {
     "iopub.execute_input": "2022-05-02T18:39:23.268953Z",
     "iopub.status.busy": "2022-05-02T18:39:23.268376Z",
     "iopub.status.idle": "2022-05-02T18:39:23.274605Z",
     "shell.execute_reply": "2022-05-02T18:39:23.273304Z",
     "shell.execute_reply.started": "2022-05-02T18:39:23.268906Z"
    }
   },
   "outputs": [],
   "source": [
    "laptop['Model']=laptop['Model'].str.lower()"
   ]
  },
  {
   "cell_type": "code",
   "execution_count": 9,
   "metadata": {
    "execution": {
     "iopub.execute_input": "2022-05-02T18:39:23.331173Z",
     "iopub.status.busy": "2022-05-02T18:39:23.330664Z",
     "iopub.status.idle": "2022-05-02T18:39:23.338873Z",
     "shell.execute_reply": "2022-05-02T18:39:23.338086Z",
     "shell.execute_reply.started": "2022-05-02T18:39:23.331124Z"
    }
   },
   "outputs": [
    {
     "data": {
      "text/plain": [
       "array(['inspiron', 'vostro', 'vivobook', 'tuf', 'ryzen', 'ideapad', nan,\n",
       "       'aspire', 'thinkpad', 'pavilion', '2020', 'gf63', 'rog', 'nitro',\n",
       "       'asus', 'hp', 'book', 'katana', 'macbook', 'notebook',\n",
       "       'chromebook', 'surface', 'envy', 'swift', 'zenbook', 'apu', '3000',\n",
       "       '250-g6', 'travelmate', '15q', 'v15'], dtype=object)"
      ]
     },
     "execution_count": 9,
     "metadata": {},
     "output_type": "execute_result"
    }
   ],
   "source": [
    "laptop['Model'].unique()"
   ]
  },
  {
   "cell_type": "markdown",
   "metadata": {},
   "source": [
    "Checking for unique values of 'Processor' column"
   ]
  },
  {
   "cell_type": "code",
   "execution_count": 10,
   "metadata": {
    "execution": {
     "iopub.execute_input": "2022-05-02T18:39:23.393185Z",
     "iopub.status.busy": "2022-05-02T18:39:23.392756Z",
     "iopub.status.idle": "2022-05-02T18:39:23.399039Z",
     "shell.execute_reply": "2022-05-02T18:39:23.398316Z",
     "shell.execute_reply.started": "2022-05-02T18:39:23.393154Z"
    }
   },
   "outputs": [
    {
     "data": {
      "text/plain": [
       "array(['i3', 'i5', '3250U', '3050U', '5600U', '-', '5500U', 'i7', '5300U',\n",
       "       '5600H', '3450U', nan, '4800HS', '4600H', '4800H', 'R3-3250U',\n",
       "       'AMD', 'A9'], dtype=object)"
      ]
     },
     "execution_count": 10,
     "metadata": {},
     "output_type": "execute_result"
    }
   ],
   "source": [
    "laptop['Processor'].unique()\n",
    "#laptop['Processor_Gen'].unique()"
   ]
  },
  {
   "cell_type": "markdown",
   "metadata": {},
   "source": [
    "There are a lot of not so meaningful values in the 'Processor' column, we need further adjustment to this column"
   ]
  },
  {
   "cell_type": "markdown",
   "metadata": {},
   "source": [
    "To better indicate the Processor spec of the laptop, added new column to present the Processor brand"
   ]
  },
  {
   "cell_type": "code",
   "execution_count": 11,
   "metadata": {
    "execution": {
     "iopub.execute_input": "2022-05-02T18:39:23.456065Z",
     "iopub.status.busy": "2022-05-02T18:39:23.455288Z",
     "iopub.status.idle": "2022-05-02T18:39:23.466599Z",
     "shell.execute_reply": "2022-05-02T18:39:23.465761Z",
     "shell.execute_reply.started": "2022-05-02T18:39:23.456027Z"
    }
   },
   "outputs": [],
   "source": [
    "#creating a new column indication processor brand\n",
    "laptop['Processor1']=laptop['Processor']\n",
    "\n",
    "def processor_alter(p):\n",
    "    if p == 'i3' or p== 'i5' or p=='i7': \n",
    "        p = 'Intel'\n",
    "        \n",
    "    elif p == '3250U' or p== '3050U' or p== '5600U' or p=='5500U' or p== '5300U' or p == '5600H' or p == '3450U' or p=='4800HS' or p== '4600H' or p== '4800H' or p=='R3-3250U':\n",
    "        p = 'AMD'\n",
    "        \n",
    "    else: \n",
    "        p= 'Others'\n",
    "        \n",
    "    return p\n",
    "\n",
    "laptop['Processor1'] = laptop['Processor1'].apply(processor_alter)\n",
    "        \n",
    "laptop = laptop.rename(columns = {'Processor1':'Processor_brand'})\n",
    "#laptop.Processor = laptop['Model'].apply(lambda x: 'AMD' if x =='vivobook' or x =='ryzen' else 'Celeron')\n",
    "\n"
   ]
  },
  {
   "cell_type": "code",
   "execution_count": 12,
   "metadata": {
    "execution": {
     "iopub.execute_input": "2022-05-02T18:39:23.498691Z",
     "iopub.status.busy": "2022-05-02T18:39:23.498232Z",
     "iopub.status.idle": "2022-05-02T18:39:23.519905Z",
     "shell.execute_reply": "2022-05-02T18:39:23.519069Z",
     "shell.execute_reply.started": "2022-05-02T18:39:23.498659Z"
    }
   },
   "outputs": [],
   "source": [
    "\n",
    "#replace incorrect data \n",
    "\n",
    "laptop[(laptop.Processor == '-') & (laptop.Model == 'vivobook')] = laptop[(laptop.Processor == '-') & (laptop.Model == 'vivobook')].replace('-','Others')\n",
    "\n",
    "laptop[(laptop.Processor == '-')]=laptop[(laptop.Processor == '-')].replace('-','Others')\n",
    "\n"
   ]
  },
  {
   "cell_type": "code",
   "execution_count": 13,
   "metadata": {
    "execution": {
     "iopub.execute_input": "2022-05-02T18:39:23.546216Z",
     "iopub.status.busy": "2022-05-02T18:39:23.545919Z",
     "iopub.status.idle": "2022-05-02T18:39:23.565863Z",
     "shell.execute_reply": "2022-05-02T18:39:23.564901Z",
     "shell.execute_reply.started": "2022-05-02T18:39:23.546181Z"
    }
   },
   "outputs": [
    {
     "data": {
      "text/html": [
       "<div>\n",
       "<style scoped>\n",
       "    .dataframe tbody tr th:only-of-type {\n",
       "        vertical-align: middle;\n",
       "    }\n",
       "\n",
       "    .dataframe tbody tr th {\n",
       "        vertical-align: top;\n",
       "    }\n",
       "\n",
       "    .dataframe thead th {\n",
       "        text-align: right;\n",
       "    }\n",
       "</style>\n",
       "<table border=\"1\" class=\"dataframe\">\n",
       "  <thead>\n",
       "    <tr style=\"text-align: right;\">\n",
       "      <th></th>\n",
       "      <th>Brand</th>\n",
       "      <th>Model</th>\n",
       "      <th>Series</th>\n",
       "      <th>Processor</th>\n",
       "      <th>Processor_Gen</th>\n",
       "      <th>RAM</th>\n",
       "      <th>Hard_Disk_Capacity</th>\n",
       "      <th>Rating</th>\n",
       "      <th>Price</th>\n",
       "      <th>Processor_brand</th>\n",
       "    </tr>\n",
       "    <tr>\n",
       "      <th>OS</th>\n",
       "      <th></th>\n",
       "      <th></th>\n",
       "      <th></th>\n",
       "      <th></th>\n",
       "      <th></th>\n",
       "      <th></th>\n",
       "      <th></th>\n",
       "      <th></th>\n",
       "      <th></th>\n",
       "      <th></th>\n",
       "    </tr>\n",
       "  </thead>\n",
       "  <tbody>\n",
       "    <tr>\n",
       "      <th>128 GB SSD</th>\n",
       "      <td>1</td>\n",
       "      <td>1</td>\n",
       "      <td>1</td>\n",
       "      <td>1</td>\n",
       "      <td>1</td>\n",
       "      <td>1</td>\n",
       "      <td>1</td>\n",
       "      <td>1</td>\n",
       "      <td>1</td>\n",
       "      <td>1</td>\n",
       "    </tr>\n",
       "    <tr>\n",
       "      <th>256 GB SSD</th>\n",
       "      <td>14</td>\n",
       "      <td>13</td>\n",
       "      <td>7</td>\n",
       "      <td>14</td>\n",
       "      <td>14</td>\n",
       "      <td>14</td>\n",
       "      <td>14</td>\n",
       "      <td>14</td>\n",
       "      <td>14</td>\n",
       "      <td>14</td>\n",
       "    </tr>\n",
       "    <tr>\n",
       "      <th>Chrome OS</th>\n",
       "      <td>2</td>\n",
       "      <td>2</td>\n",
       "      <td>2</td>\n",
       "      <td>2</td>\n",
       "      <td>2</td>\n",
       "      <td>2</td>\n",
       "      <td>2</td>\n",
       "      <td>2</td>\n",
       "      <td>2</td>\n",
       "      <td>2</td>\n",
       "    </tr>\n",
       "    <tr>\n",
       "      <th>DOS</th>\n",
       "      <td>5</td>\n",
       "      <td>5</td>\n",
       "      <td>2</td>\n",
       "      <td>5</td>\n",
       "      <td>5</td>\n",
       "      <td>5</td>\n",
       "      <td>5</td>\n",
       "      <td>5</td>\n",
       "      <td>5</td>\n",
       "      <td>5</td>\n",
       "    </tr>\n",
       "    <tr>\n",
       "      <th>Windows 10</th>\n",
       "      <td>10</td>\n",
       "      <td>8</td>\n",
       "      <td>2</td>\n",
       "      <td>10</td>\n",
       "      <td>10</td>\n",
       "      <td>10</td>\n",
       "      <td>10</td>\n",
       "      <td>10</td>\n",
       "      <td>10</td>\n",
       "      <td>10</td>\n",
       "    </tr>\n",
       "    <tr>\n",
       "      <th>Windows 10 Home</th>\n",
       "      <td>46</td>\n",
       "      <td>42</td>\n",
       "      <td>36</td>\n",
       "      <td>46</td>\n",
       "      <td>46</td>\n",
       "      <td>46</td>\n",
       "      <td>46</td>\n",
       "      <td>46</td>\n",
       "      <td>46</td>\n",
       "      <td>46</td>\n",
       "    </tr>\n",
       "    <tr>\n",
       "      <th>Windows 11 Home</th>\n",
       "      <td>44</td>\n",
       "      <td>37</td>\n",
       "      <td>22</td>\n",
       "      <td>44</td>\n",
       "      <td>44</td>\n",
       "      <td>44</td>\n",
       "      <td>44</td>\n",
       "      <td>44</td>\n",
       "      <td>44</td>\n",
       "      <td>44</td>\n",
       "    </tr>\n",
       "  </tbody>\n",
       "</table>\n",
       "</div>"
      ],
      "text/plain": [
       "                 Brand  Model  Series  Processor  Processor_Gen  RAM  \\\n",
       "OS                                                                     \n",
       "128 GB SSD           1      1       1          1              1    1   \n",
       "256 GB SSD          14     13       7         14             14   14   \n",
       "Chrome OS            2      2       2          2              2    2   \n",
       "DOS                  5      5       2          5              5    5   \n",
       "Windows 10          10      8       2         10             10   10   \n",
       "Windows 10 Home     46     42      36         46             46   46   \n",
       "Windows 11 Home     44     37      22         44             44   44   \n",
       "\n",
       "                 Hard_Disk_Capacity  Rating  Price  Processor_brand  \n",
       "OS                                                                   \n",
       "128 GB SSD                        1       1      1                1  \n",
       "256 GB SSD                       14      14     14               14  \n",
       "Chrome OS                         2       2      2                2  \n",
       "DOS                               5       5      5                5  \n",
       "Windows 10                       10      10     10               10  \n",
       "Windows 10 Home                  46      46     46               46  \n",
       "Windows 11 Home                  44      44     44               44  "
      ]
     },
     "execution_count": 13,
     "metadata": {},
     "output_type": "execute_result"
    }
   ],
   "source": [
    "laptop.groupby('OS').count()"
   ]
  },
  {
   "cell_type": "code",
   "execution_count": 14,
   "metadata": {
    "execution": {
     "iopub.execute_input": "2022-05-02T18:39:23.612211Z",
     "iopub.status.busy": "2022-05-02T18:39:23.611374Z",
     "iopub.status.idle": "2022-05-02T18:39:23.635171Z",
     "shell.execute_reply": "2022-05-02T18:39:23.634336Z",
     "shell.execute_reply.started": "2022-05-02T18:39:23.612163Z"
    }
   },
   "outputs": [
    {
     "data": {
      "text/html": [
       "<div>\n",
       "<style scoped>\n",
       "    .dataframe tbody tr th:only-of-type {\n",
       "        vertical-align: middle;\n",
       "    }\n",
       "\n",
       "    .dataframe tbody tr th {\n",
       "        vertical-align: top;\n",
       "    }\n",
       "\n",
       "    .dataframe thead th {\n",
       "        text-align: right;\n",
       "    }\n",
       "</style>\n",
       "<table border=\"1\" class=\"dataframe\">\n",
       "  <thead>\n",
       "    <tr style=\"text-align: right;\">\n",
       "      <th></th>\n",
       "      <th>Brand</th>\n",
       "      <th>Model</th>\n",
       "      <th>Series</th>\n",
       "      <th>Processor</th>\n",
       "      <th>Processor_Gen</th>\n",
       "      <th>RAM</th>\n",
       "      <th>Hard_Disk_Capacity</th>\n",
       "      <th>OS</th>\n",
       "      <th>Rating</th>\n",
       "      <th>Price</th>\n",
       "      <th>Processor_brand</th>\n",
       "    </tr>\n",
       "  </thead>\n",
       "  <tbody>\n",
       "    <tr>\n",
       "      <th>3</th>\n",
       "      <td>DELL</td>\n",
       "      <td>inspiron</td>\n",
       "      <td>NaN</td>\n",
       "      <td>i3</td>\n",
       "      <td>11th</td>\n",
       "      <td>8.0</td>\n",
       "      <td>1 TB HDD</td>\n",
       "      <td>256 GB SSD</td>\n",
       "      <td>4.4</td>\n",
       "      <td>44440</td>\n",
       "      <td>Intel</td>\n",
       "    </tr>\n",
       "    <tr>\n",
       "      <th>38</th>\n",
       "      <td>ASUS</td>\n",
       "      <td>vivobook</td>\n",
       "      <td>15</td>\n",
       "      <td>i5</td>\n",
       "      <td>11th</td>\n",
       "      <td>8.0</td>\n",
       "      <td>1 TB HDD</td>\n",
       "      <td>256 GB SSD</td>\n",
       "      <td>4.3</td>\n",
       "      <td>52940</td>\n",
       "      <td>Intel</td>\n",
       "    </tr>\n",
       "    <tr>\n",
       "      <th>49</th>\n",
       "      <td>DELL</td>\n",
       "      <td>inspiron</td>\n",
       "      <td>NaN</td>\n",
       "      <td>i3</td>\n",
       "      <td>11th</td>\n",
       "      <td>8.0</td>\n",
       "      <td>1 TB HDD</td>\n",
       "      <td>256 GB SSD</td>\n",
       "      <td>4.4</td>\n",
       "      <td>45340</td>\n",
       "      <td>Intel</td>\n",
       "    </tr>\n",
       "    <tr>\n",
       "      <th>59</th>\n",
       "      <td>acer</td>\n",
       "      <td>nitro</td>\n",
       "      <td>Ryzen</td>\n",
       "      <td>5600H</td>\n",
       "      <td>-</td>\n",
       "      <td>8.0</td>\n",
       "      <td>1 TB HDD</td>\n",
       "      <td>256 GB SSD</td>\n",
       "      <td>4.5</td>\n",
       "      <td>72940</td>\n",
       "      <td>AMD</td>\n",
       "    </tr>\n",
       "    <tr>\n",
       "      <th>63</th>\n",
       "      <td>HP</td>\n",
       "      <td>pavilion</td>\n",
       "      <td>Gaming</td>\n",
       "      <td>4800H</td>\n",
       "      <td>-</td>\n",
       "      <td>16.0</td>\n",
       "      <td>1 TB HDD</td>\n",
       "      <td>256 GB SSD</td>\n",
       "      <td>4.5</td>\n",
       "      <td>75940</td>\n",
       "      <td>AMD</td>\n",
       "    </tr>\n",
       "    <tr>\n",
       "      <th>65</th>\n",
       "      <td>ASUS</td>\n",
       "      <td>vivobook</td>\n",
       "      <td>K15</td>\n",
       "      <td>i5</td>\n",
       "      <td>11th</td>\n",
       "      <td>16.0</td>\n",
       "      <td>1 TB HDD</td>\n",
       "      <td>256 GB SSD</td>\n",
       "      <td>4.7</td>\n",
       "      <td>66940</td>\n",
       "      <td>Intel</td>\n",
       "    </tr>\n",
       "    <tr>\n",
       "      <th>71</th>\n",
       "      <td>ASUS</td>\n",
       "      <td>vivobook</td>\n",
       "      <td>K15</td>\n",
       "      <td>i5</td>\n",
       "      <td>11th</td>\n",
       "      <td>16.0</td>\n",
       "      <td>1 TB HDD</td>\n",
       "      <td>256 GB SSD</td>\n",
       "      <td>4.3</td>\n",
       "      <td>65940</td>\n",
       "      <td>Intel</td>\n",
       "    </tr>\n",
       "    <tr>\n",
       "      <th>80</th>\n",
       "      <td>DELL</td>\n",
       "      <td>inspiron</td>\n",
       "      <td>Ryzen</td>\n",
       "      <td>3450U</td>\n",
       "      <td>-</td>\n",
       "      <td>8.0</td>\n",
       "      <td>1 TB HDD</td>\n",
       "      <td>256 GB SSD</td>\n",
       "      <td>3.9</td>\n",
       "      <td>49240</td>\n",
       "      <td>AMD</td>\n",
       "    </tr>\n",
       "    <tr>\n",
       "      <th>92</th>\n",
       "      <td>DELL</td>\n",
       "      <td>vostro</td>\n",
       "      <td>NaN</td>\n",
       "      <td>i3</td>\n",
       "      <td>11th</td>\n",
       "      <td>4.0</td>\n",
       "      <td>1 TB HDD</td>\n",
       "      <td>256 GB SSD</td>\n",
       "      <td>4.1</td>\n",
       "      <td>43126</td>\n",
       "      <td>Intel</td>\n",
       "    </tr>\n",
       "    <tr>\n",
       "      <th>95</th>\n",
       "      <td>DELL</td>\n",
       "      <td>inspiron</td>\n",
       "      <td>NaN</td>\n",
       "      <td>i3</td>\n",
       "      <td>11th</td>\n",
       "      <td>8.0</td>\n",
       "      <td>1 TB HDD</td>\n",
       "      <td>256 GB SSD</td>\n",
       "      <td>4.1</td>\n",
       "      <td>48940</td>\n",
       "      <td>Intel</td>\n",
       "    </tr>\n",
       "    <tr>\n",
       "      <th>106</th>\n",
       "      <td>acer</td>\n",
       "      <td>swift</td>\n",
       "      <td>3</td>\n",
       "      <td>i5</td>\n",
       "      <td>8th</td>\n",
       "      <td>8.0</td>\n",
       "      <td>1 TB HDD</td>\n",
       "      <td>128 GB SSD</td>\n",
       "      <td>4.6</td>\n",
       "      <td>59940</td>\n",
       "      <td>Intel</td>\n",
       "    </tr>\n",
       "    <tr>\n",
       "      <th>107</th>\n",
       "      <td>DELL</td>\n",
       "      <td>inspiron</td>\n",
       "      <td>NaN</td>\n",
       "      <td>i5</td>\n",
       "      <td>11th</td>\n",
       "      <td>8.0</td>\n",
       "      <td>1 TB HDD</td>\n",
       "      <td>256 GB SSD</td>\n",
       "      <td>4.2</td>\n",
       "      <td>63610</td>\n",
       "      <td>Intel</td>\n",
       "    </tr>\n",
       "    <tr>\n",
       "      <th>113</th>\n",
       "      <td>Lenovo</td>\n",
       "      <td>ideapad</td>\n",
       "      <td>Gaming</td>\n",
       "      <td>i5</td>\n",
       "      <td>10th</td>\n",
       "      <td>8.0</td>\n",
       "      <td>1 TB HDD</td>\n",
       "      <td>256 GB SSD</td>\n",
       "      <td>4.4</td>\n",
       "      <td>64940</td>\n",
       "      <td>Intel</td>\n",
       "    </tr>\n",
       "    <tr>\n",
       "      <th>122</th>\n",
       "      <td>acer</td>\n",
       "      <td>travelmate</td>\n",
       "      <td>NaN</td>\n",
       "      <td>i5</td>\n",
       "      <td>11th</td>\n",
       "      <td>16.0</td>\n",
       "      <td>1 TB HDD</td>\n",
       "      <td>256 GB SSD</td>\n",
       "      <td>3.4</td>\n",
       "      <td>62440</td>\n",
       "      <td>Intel</td>\n",
       "    </tr>\n",
       "    <tr>\n",
       "      <th>123</th>\n",
       "      <td>DELL</td>\n",
       "      <td>NaN</td>\n",
       "      <td>NaN</td>\n",
       "      <td>i3</td>\n",
       "      <td>10th</td>\n",
       "      <td>8.0</td>\n",
       "      <td>1 TB HDD</td>\n",
       "      <td>256 GB SSD</td>\n",
       "      <td>2.9</td>\n",
       "      <td>46840</td>\n",
       "      <td>Intel</td>\n",
       "    </tr>\n",
       "  </tbody>\n",
       "</table>\n",
       "</div>"
      ],
      "text/plain": [
       "      Brand       Model  Series Processor Processor_Gen   RAM  \\\n",
       "3      DELL    inspiron     NaN        i3          11th   8.0   \n",
       "38     ASUS    vivobook      15        i5          11th   8.0   \n",
       "49     DELL    inspiron     NaN        i3          11th   8.0   \n",
       "59     acer       nitro   Ryzen     5600H             -   8.0   \n",
       "63       HP    pavilion  Gaming     4800H             -  16.0   \n",
       "65     ASUS    vivobook     K15        i5          11th  16.0   \n",
       "71     ASUS    vivobook     K15        i5          11th  16.0   \n",
       "80     DELL    inspiron   Ryzen     3450U             -   8.0   \n",
       "92     DELL      vostro     NaN        i3          11th   4.0   \n",
       "95     DELL    inspiron     NaN        i3          11th   8.0   \n",
       "106    acer       swift       3        i5           8th   8.0   \n",
       "107    DELL    inspiron     NaN        i5          11th   8.0   \n",
       "113  Lenovo     ideapad  Gaming        i5          10th   8.0   \n",
       "122    acer  travelmate     NaN        i5          11th  16.0   \n",
       "123    DELL         NaN     NaN        i3          10th   8.0   \n",
       "\n",
       "    Hard_Disk_Capacity          OS  Rating  Price Processor_brand  \n",
       "3             1 TB HDD  256 GB SSD     4.4  44440           Intel  \n",
       "38            1 TB HDD  256 GB SSD     4.3  52940           Intel  \n",
       "49            1 TB HDD  256 GB SSD     4.4  45340           Intel  \n",
       "59            1 TB HDD  256 GB SSD     4.5  72940             AMD  \n",
       "63            1 TB HDD  256 GB SSD     4.5  75940             AMD  \n",
       "65            1 TB HDD  256 GB SSD     4.7  66940           Intel  \n",
       "71            1 TB HDD  256 GB SSD     4.3  65940           Intel  \n",
       "80            1 TB HDD  256 GB SSD     3.9  49240             AMD  \n",
       "92            1 TB HDD  256 GB SSD     4.1  43126           Intel  \n",
       "95            1 TB HDD  256 GB SSD     4.1  48940           Intel  \n",
       "106           1 TB HDD  128 GB SSD     4.6  59940           Intel  \n",
       "107           1 TB HDD  256 GB SSD     4.2  63610           Intel  \n",
       "113           1 TB HDD  256 GB SSD     4.4  64940           Intel  \n",
       "122           1 TB HDD  256 GB SSD     3.4  62440           Intel  \n",
       "123           1 TB HDD  256 GB SSD     2.9  46840           Intel  "
      ]
     },
     "execution_count": 14,
     "metadata": {},
     "output_type": "execute_result"
    }
   ],
   "source": [
    "laptop[laptop.OS.isin(['128 GB SSD','256 GB SSD'])]\n",
    "\n"
   ]
  },
  {
   "cell_type": "markdown",
   "metadata": {},
   "source": [
    "The 'OS' column does not indicate the data it meant to be presented, this probably be data migration error"
   ]
  },
  {
   "cell_type": "markdown",
   "metadata": {},
   "source": [
    "A laptop can have two hard disk units so these wrong OS values in fact indicate the size of the second hard disk unit of the laptop\n",
    "\n",
    "We will copy this OS column into another column and rename this column as '2nd_hard_disk'"
   ]
  },
  {
   "cell_type": "code",
   "execution_count": 15,
   "metadata": {
    "execution": {
     "iopub.execute_input": "2022-05-02T18:39:23.680082Z",
     "iopub.status.busy": "2022-05-02T18:39:23.679458Z",
     "iopub.status.idle": "2022-05-02T18:39:23.703250Z",
     "shell.execute_reply": "2022-05-02T18:39:23.702408Z",
     "shell.execute_reply.started": "2022-05-02T18:39:23.680037Z"
    }
   },
   "outputs": [
    {
     "data": {
      "text/html": [
       "<div>\n",
       "<style scoped>\n",
       "    .dataframe tbody tr th:only-of-type {\n",
       "        vertical-align: middle;\n",
       "    }\n",
       "\n",
       "    .dataframe tbody tr th {\n",
       "        vertical-align: top;\n",
       "    }\n",
       "\n",
       "    .dataframe thead th {\n",
       "        text-align: right;\n",
       "    }\n",
       "</style>\n",
       "<table border=\"1\" class=\"dataframe\">\n",
       "  <thead>\n",
       "    <tr style=\"text-align: right;\">\n",
       "      <th></th>\n",
       "      <th>Brand</th>\n",
       "      <th>Model</th>\n",
       "      <th>Series</th>\n",
       "      <th>Processor</th>\n",
       "      <th>Processor_Gen</th>\n",
       "      <th>RAM</th>\n",
       "      <th>Hard_Disk_Capacity</th>\n",
       "      <th>OS</th>\n",
       "      <th>Rating</th>\n",
       "      <th>Price</th>\n",
       "      <th>Processor_brand</th>\n",
       "      <th>2nd_hard_disk</th>\n",
       "    </tr>\n",
       "  </thead>\n",
       "  <tbody>\n",
       "    <tr>\n",
       "      <th>0</th>\n",
       "      <td>DELL</td>\n",
       "      <td>inspiron</td>\n",
       "      <td>NaN</td>\n",
       "      <td>i3</td>\n",
       "      <td>11th</td>\n",
       "      <td>8.0</td>\n",
       "      <td>1 TB HDD</td>\n",
       "      <td>Windows 11 Home</td>\n",
       "      <td>3.7</td>\n",
       "      <td>39040</td>\n",
       "      <td>Intel</td>\n",
       "      <td>NaN</td>\n",
       "    </tr>\n",
       "    <tr>\n",
       "      <th>1</th>\n",
       "      <td>DELL</td>\n",
       "      <td>vostro</td>\n",
       "      <td>NaN</td>\n",
       "      <td>i5</td>\n",
       "      <td>11th</td>\n",
       "      <td>8.0</td>\n",
       "      <td>1 TB HDD</td>\n",
       "      <td>Windows 10 Home</td>\n",
       "      <td>3.6</td>\n",
       "      <td>50840</td>\n",
       "      <td>Intel</td>\n",
       "      <td>NaN</td>\n",
       "    </tr>\n",
       "    <tr>\n",
       "      <th>2</th>\n",
       "      <td>ASUS</td>\n",
       "      <td>vivobook</td>\n",
       "      <td>15</td>\n",
       "      <td>i3</td>\n",
       "      <td>10th</td>\n",
       "      <td>8.0</td>\n",
       "      <td>512 GB SSD</td>\n",
       "      <td>Windows 11 Home</td>\n",
       "      <td>4.3</td>\n",
       "      <td>37940</td>\n",
       "      <td>Intel</td>\n",
       "      <td>NaN</td>\n",
       "    </tr>\n",
       "    <tr>\n",
       "      <th>3</th>\n",
       "      <td>DELL</td>\n",
       "      <td>inspiron</td>\n",
       "      <td>NaN</td>\n",
       "      <td>i3</td>\n",
       "      <td>11th</td>\n",
       "      <td>8.0</td>\n",
       "      <td>1 TB HDD</td>\n",
       "      <td>256 GB SSD</td>\n",
       "      <td>4.4</td>\n",
       "      <td>44440</td>\n",
       "      <td>Intel</td>\n",
       "      <td>256 GB SSD</td>\n",
       "    </tr>\n",
       "    <tr>\n",
       "      <th>4</th>\n",
       "      <td>ASUS</td>\n",
       "      <td>tuf</td>\n",
       "      <td>Gaming</td>\n",
       "      <td>i5</td>\n",
       "      <td>10th</td>\n",
       "      <td>8.0</td>\n",
       "      <td>512 GB SSD</td>\n",
       "      <td>Windows 10 Home</td>\n",
       "      <td>4.5</td>\n",
       "      <td>57940</td>\n",
       "      <td>Intel</td>\n",
       "      <td>NaN</td>\n",
       "    </tr>\n",
       "  </tbody>\n",
       "</table>\n",
       "</div>"
      ],
      "text/plain": [
       "  Brand     Model  Series Processor Processor_Gen  RAM Hard_Disk_Capacity  \\\n",
       "0  DELL  inspiron     NaN        i3          11th  8.0           1 TB HDD   \n",
       "1  DELL    vostro     NaN        i5          11th  8.0           1 TB HDD   \n",
       "2  ASUS  vivobook      15        i3          10th  8.0         512 GB SSD   \n",
       "3  DELL  inspiron     NaN        i3          11th  8.0           1 TB HDD   \n",
       "4  ASUS       tuf  Gaming        i5          10th  8.0         512 GB SSD   \n",
       "\n",
       "                OS  Rating  Price Processor_brand 2nd_hard_disk  \n",
       "0  Windows 11 Home     3.7  39040           Intel           NaN  \n",
       "1  Windows 10 Home     3.6  50840           Intel           NaN  \n",
       "2  Windows 11 Home     4.3  37940           Intel           NaN  \n",
       "3       256 GB SSD     4.4  44440           Intel    256 GB SSD  \n",
       "4  Windows 10 Home     4.5  57940           Intel           NaN  "
      ]
     },
     "execution_count": 15,
     "metadata": {},
     "output_type": "execute_result"
    }
   ],
   "source": [
    "\n",
    "laptop['2nd_hard_disk'] = laptop['OS']\n",
    "\n",
    "laptop['2nd_hard_disk']=laptop['2nd_hard_disk'].replace(['Chrome OS','DOS','Windows 10','Windows 10 Home','Windows 11 Home'], np.NaN)\n",
    "\n",
    "laptop.head()"
   ]
  },
  {
   "cell_type": "markdown",
   "metadata": {},
   "source": [
    "Replace the incorrect values for OS column"
   ]
  },
  {
   "cell_type": "code",
   "execution_count": 16,
   "metadata": {
    "execution": {
     "iopub.execute_input": "2022-05-02T18:39:23.741551Z",
     "iopub.status.busy": "2022-05-02T18:39:23.740736Z",
     "iopub.status.idle": "2022-05-02T18:39:23.747354Z",
     "shell.execute_reply": "2022-05-02T18:39:23.746199Z",
     "shell.execute_reply.started": "2022-05-02T18:39:23.741502Z"
    }
   },
   "outputs": [],
   "source": [
    "#replace the incorrect value of 'acer swift 3' with correct values, because it was the only\n",
    "#record with '128 GB SSD' for 'OS' (record 106)\n",
    "\n",
    "laptop.OS= laptop.OS.replace(to_replace ='128 GB SSD', value = 'Windows 10')\n",
    "\n"
   ]
  },
  {
   "cell_type": "markdown",
   "metadata": {},
   "source": [
    "The OS for these devices could be either windows 10, windows 10 Home or windows 11 Home, except for one specific device with 4GB RAM which cannot handle windows 11 Home. Hence, we will fill in random values of the three except for that device "
   ]
  },
  {
   "cell_type": "code",
   "execution_count": 17,
   "metadata": {
    "execution": {
     "iopub.execute_input": "2022-05-02T18:39:23.802970Z",
     "iopub.status.busy": "2022-05-02T18:39:23.802224Z",
     "iopub.status.idle": "2022-05-02T18:39:23.810168Z",
     "shell.execute_reply": "2022-05-02T18:39:23.809536Z",
     "shell.execute_reply.started": "2022-05-02T18:39:23.802930Z"
    }
   },
   "outputs": [],
   "source": [
    "\n",
    "os_list = ['Windows 10 Home', 'Windows 11 Home', 'Windows 10']\n",
    "\n",
    "def os_alter(OS):\n",
    "    if OS == '256 GB SSD':\n",
    "        OS = np.random.choice(os_list)\n",
    "    return OS\n",
    "\n",
    "laptop.OS= laptop['OS'].apply(os_alter)\n"
   ]
  },
  {
   "cell_type": "markdown",
   "metadata": {},
   "source": [
    "The 'Price' values missing decimal places, we will fix that by multiply it by 0.01"
   ]
  },
  {
   "cell_type": "code",
   "execution_count": 18,
   "metadata": {
    "execution": {
     "iopub.execute_input": "2022-05-02T18:39:23.863482Z",
     "iopub.status.busy": "2022-05-02T18:39:23.863177Z",
     "iopub.status.idle": "2022-05-02T18:39:23.869181Z",
     "shell.execute_reply": "2022-05-02T18:39:23.868129Z",
     "shell.execute_reply.started": "2022-05-02T18:39:23.863452Z"
    }
   },
   "outputs": [],
   "source": [
    "\n",
    "laptop.Price = laptop['Price']*0.01"
   ]
  },
  {
   "cell_type": "markdown",
   "metadata": {},
   "source": [
    "Filling the rest of NaN values for the 'OS' column"
   ]
  },
  {
   "cell_type": "code",
   "execution_count": 19,
   "metadata": {
    "execution": {
     "iopub.execute_input": "2022-05-02T18:39:23.928786Z",
     "iopub.status.busy": "2022-05-02T18:39:23.928368Z",
     "iopub.status.idle": "2022-05-02T18:39:23.948979Z",
     "shell.execute_reply": "2022-05-02T18:39:23.948348Z",
     "shell.execute_reply.started": "2022-05-02T18:39:23.928755Z"
    }
   },
   "outputs": [
    {
     "data": {
      "text/html": [
       "<div>\n",
       "<style scoped>\n",
       "    .dataframe tbody tr th:only-of-type {\n",
       "        vertical-align: middle;\n",
       "    }\n",
       "\n",
       "    .dataframe tbody tr th {\n",
       "        vertical-align: top;\n",
       "    }\n",
       "\n",
       "    .dataframe thead th {\n",
       "        text-align: right;\n",
       "    }\n",
       "</style>\n",
       "<table border=\"1\" class=\"dataframe\">\n",
       "  <thead>\n",
       "    <tr style=\"text-align: right;\">\n",
       "      <th></th>\n",
       "      <th>Brand</th>\n",
       "      <th>Model</th>\n",
       "      <th>Series</th>\n",
       "      <th>Processor</th>\n",
       "      <th>Processor_Gen</th>\n",
       "      <th>RAM</th>\n",
       "      <th>Hard_Disk_Capacity</th>\n",
       "      <th>OS</th>\n",
       "      <th>Rating</th>\n",
       "      <th>Price</th>\n",
       "      <th>Processor_brand</th>\n",
       "      <th>2nd_hard_disk</th>\n",
       "    </tr>\n",
       "  </thead>\n",
       "  <tbody>\n",
       "    <tr>\n",
       "      <th>45</th>\n",
       "      <td>APPLE</td>\n",
       "      <td>2020</td>\n",
       "      <td>Macbook</td>\n",
       "      <td>NaN</td>\n",
       "      <td>NaN</td>\n",
       "      <td>NaN</td>\n",
       "      <td>NaN</td>\n",
       "      <td>NaN</td>\n",
       "      <td>4.7</td>\n",
       "      <td>849.4</td>\n",
       "      <td>Others</td>\n",
       "      <td>NaN</td>\n",
       "    </tr>\n",
       "    <tr>\n",
       "      <th>70</th>\n",
       "      <td>DELL</td>\n",
       "      <td>vostro</td>\n",
       "      <td>Ryzen</td>\n",
       "      <td>R3-3250U</td>\n",
       "      <td>-</td>\n",
       "      <td>NaN</td>\n",
       "      <td>NaN</td>\n",
       "      <td>NaN</td>\n",
       "      <td>3.9</td>\n",
       "      <td>373.4</td>\n",
       "      <td>AMD</td>\n",
       "      <td>NaN</td>\n",
       "    </tr>\n",
       "    <tr>\n",
       "      <th>75</th>\n",
       "      <td>APPLE</td>\n",
       "      <td>macbook</td>\n",
       "      <td>Air</td>\n",
       "      <td>NaN</td>\n",
       "      <td>NaN</td>\n",
       "      <td>NaN</td>\n",
       "      <td>NaN</td>\n",
       "      <td>NaN</td>\n",
       "      <td>4.5</td>\n",
       "      <td>1199.4</td>\n",
       "      <td>Others</td>\n",
       "      <td>NaN</td>\n",
       "    </tr>\n",
       "    <tr>\n",
       "      <th>81</th>\n",
       "      <td>APPLE</td>\n",
       "      <td>macbook</td>\n",
       "      <td>Air</td>\n",
       "      <td>NaN</td>\n",
       "      <td>NaN</td>\n",
       "      <td>NaN</td>\n",
       "      <td>NaN</td>\n",
       "      <td>NaN</td>\n",
       "      <td>4.5</td>\n",
       "      <td>1059.4</td>\n",
       "      <td>Others</td>\n",
       "      <td>NaN</td>\n",
       "    </tr>\n",
       "    <tr>\n",
       "      <th>87</th>\n",
       "      <td>APPLE</td>\n",
       "      <td>2020</td>\n",
       "      <td>Macbook</td>\n",
       "      <td>NaN</td>\n",
       "      <td>NaN</td>\n",
       "      <td>NaN</td>\n",
       "      <td>NaN</td>\n",
       "      <td>NaN</td>\n",
       "      <td>4.7</td>\n",
       "      <td>1109.4</td>\n",
       "      <td>Others</td>\n",
       "      <td>NaN</td>\n",
       "    </tr>\n",
       "    <tr>\n",
       "      <th>88</th>\n",
       "      <td>APPLE</td>\n",
       "      <td>2020</td>\n",
       "      <td>Macbook</td>\n",
       "      <td>NaN</td>\n",
       "      <td>NaN</td>\n",
       "      <td>NaN</td>\n",
       "      <td>NaN</td>\n",
       "      <td>NaN</td>\n",
       "      <td>4.6</td>\n",
       "      <td>1299.9</td>\n",
       "      <td>Others</td>\n",
       "      <td>NaN</td>\n",
       "    </tr>\n",
       "    <tr>\n",
       "      <th>90</th>\n",
       "      <td>APPLE</td>\n",
       "      <td>2020</td>\n",
       "      <td>Macbook</td>\n",
       "      <td>NaN</td>\n",
       "      <td>NaN</td>\n",
       "      <td>NaN</td>\n",
       "      <td>NaN</td>\n",
       "      <td>NaN</td>\n",
       "      <td>4.6</td>\n",
       "      <td>1299.9</td>\n",
       "      <td>Others</td>\n",
       "      <td>NaN</td>\n",
       "    </tr>\n",
       "    <tr>\n",
       "      <th>120</th>\n",
       "      <td>APPLE</td>\n",
       "      <td>macbook</td>\n",
       "      <td>Air</td>\n",
       "      <td>NaN</td>\n",
       "      <td>NaN</td>\n",
       "      <td>NaN</td>\n",
       "      <td>NaN</td>\n",
       "      <td>NaN</td>\n",
       "      <td>4.5</td>\n",
       "      <td>1199.4</td>\n",
       "      <td>Others</td>\n",
       "      <td>NaN</td>\n",
       "    </tr>\n",
       "  </tbody>\n",
       "</table>\n",
       "</div>"
      ],
      "text/plain": [
       "     Brand    Model   Series Processor Processor_Gen  RAM Hard_Disk_Capacity  \\\n",
       "45   APPLE     2020  Macbook       NaN           NaN  NaN                NaN   \n",
       "70    DELL   vostro    Ryzen  R3-3250U             -  NaN                NaN   \n",
       "75   APPLE  macbook      Air       NaN           NaN  NaN                NaN   \n",
       "81   APPLE  macbook      Air       NaN           NaN  NaN                NaN   \n",
       "87   APPLE     2020  Macbook       NaN           NaN  NaN                NaN   \n",
       "88   APPLE     2020  Macbook       NaN           NaN  NaN                NaN   \n",
       "90   APPLE     2020  Macbook       NaN           NaN  NaN                NaN   \n",
       "120  APPLE  macbook      Air       NaN           NaN  NaN                NaN   \n",
       "\n",
       "      OS  Rating   Price Processor_brand 2nd_hard_disk  \n",
       "45   NaN     4.7   849.4          Others           NaN  \n",
       "70   NaN     3.9   373.4             AMD           NaN  \n",
       "75   NaN     4.5  1199.4          Others           NaN  \n",
       "81   NaN     4.5  1059.4          Others           NaN  \n",
       "87   NaN     4.7  1109.4          Others           NaN  \n",
       "88   NaN     4.6  1299.9          Others           NaN  \n",
       "90   NaN     4.6  1299.9          Others           NaN  \n",
       "120  NaN     4.5  1199.4          Others           NaN  "
      ]
     },
     "execution_count": 19,
     "metadata": {},
     "output_type": "execute_result"
    }
   ],
   "source": [
    "\n",
    "laptop[laptop.OS.isna()]"
   ]
  },
  {
   "cell_type": "markdown",
   "metadata": {},
   "source": [
    "Because Apple device will run on 'MacOS', we will fill in just that"
   ]
  },
  {
   "cell_type": "code",
   "execution_count": 20,
   "metadata": {
    "execution": {
     "iopub.execute_input": "2022-05-02T18:39:23.991708Z",
     "iopub.status.busy": "2022-05-02T18:39:23.991105Z",
     "iopub.status.idle": "2022-05-02T18:39:24.008293Z",
     "shell.execute_reply": "2022-05-02T18:39:24.006839Z",
     "shell.execute_reply.started": "2022-05-02T18:39:23.991659Z"
    }
   },
   "outputs": [],
   "source": [
    "#the apple device will have 'MacOS' as its 'OS'\n",
    "laptop.OS = laptop.OS.replace(np.nan, 'MacOS')\n",
    "laptop[laptop.OS == 'MacOS']\n",
    "\n",
    "\n",
    "#there is one DELL device that need adjustment, the index of it is 70\n",
    "laptop[laptop.index == 70] = laptop[laptop.index == 70].replace('MacOS','Windows 10 Home')\n",
    "\n"
   ]
  },
  {
   "cell_type": "code",
   "execution_count": 21,
   "metadata": {},
   "outputs": [
    {
     "data": {
      "text/plain": [
       "Brand                 50\n",
       "Model                 36\n",
       "Series                 0\n",
       "Processor             50\n",
       "Processor_Gen         50\n",
       "RAM                   50\n",
       "Hard_Disk_Capacity    50\n",
       "OS                    50\n",
       "Rating                50\n",
       "Price                 50\n",
       "Processor_brand       50\n",
       "2nd_hard_disk          7\n",
       "dtype: int64"
      ]
     },
     "execution_count": 21,
     "metadata": {},
     "output_type": "execute_result"
    }
   ],
   "source": [
    "laptop.loc[laptop.Series.isnull()].count()"
   ]
  },
  {
   "cell_type": "code",
   "execution_count": 22,
   "metadata": {},
   "outputs": [
    {
     "data": {
      "text/plain": [
       "Brand                 14\n",
       "Model                  0\n",
       "Series                 0\n",
       "Processor             14\n",
       "Processor_Gen         14\n",
       "RAM                   14\n",
       "Hard_Disk_Capacity    14\n",
       "OS                    14\n",
       "Rating                14\n",
       "Price                 14\n",
       "Processor_brand       14\n",
       "2nd_hard_disk          1\n",
       "dtype: int64"
      ]
     },
     "execution_count": 22,
     "metadata": {},
     "output_type": "execute_result"
    }
   ],
   "source": [
    "laptop.loc[laptop.Model.isnull()].count()"
   ]
  },
  {
   "cell_type": "markdown",
   "metadata": {},
   "source": [
    "There are still null values for 'Model', 'Series' columns and there are insufficient information to fill in the missing values so it will be left as it is "
   ]
  },
  {
   "cell_type": "markdown",
   "metadata": {
    "execution": {
     "iopub.execute_input": "2022-05-02T19:21:33.907739Z",
     "iopub.status.busy": "2022-05-02T19:21:33.907409Z",
     "iopub.status.idle": "2022-05-02T19:21:33.912747Z",
     "shell.execute_reply": "2022-05-02T19:21:33.912004Z",
     "shell.execute_reply.started": "2022-05-02T19:21:33.907706Z"
    }
   },
   "source": [
    "## Exploratory Analysis"
   ]
  },
  {
   "cell_type": "markdown",
   "metadata": {},
   "source": [
    "For better visualization, grouping the data set by 'Brand' and 'Model'. This visualization will focus on the distribution amount of known models among existing brands in the dataset  "
   ]
  },
  {
   "cell_type": "code",
   "execution_count": 23,
   "metadata": {
    "execution": {
     "iopub.execute_input": "2022-05-02T18:39:24.118824Z",
     "iopub.status.busy": "2022-05-02T18:39:24.118532Z",
     "iopub.status.idle": "2022-05-02T18:39:24.498024Z",
     "shell.execute_reply": "2022-05-02T18:39:24.497351Z",
     "shell.execute_reply.started": "2022-05-02T18:39:24.118795Z"
    }
   },
   "outputs": [
    {
     "data": {
      "image/png": "[encoded data removed]",
      "text/plain": [
       "<Figure size 864x576 with 1 Axes>"
      ]
     },
     "metadata": {
      "needs_background": "light"
     },
     "output_type": "display_data"
    }
   ],
   "source": [
    "brand_count=laptop.groupby('Brand')[['Model']].count()\n",
    "brand_count=brand_count.sort_values('Model',ascending = False)\n",
    "\n",
    "#import matplotlib and setting the graph to show consistently\n",
    "import matplotlib.pyplot as plt\n",
    "%matplotlib inline\n",
    "\n",
    "#visualization creating\n",
    "viz1=brand_count.plot(kind='bar',figsize= (12,8))\n",
    "\n",
    "#set graph title\n",
    "plt.title('Model count of each Brand')\n",
    "\n",
    "#set data lable for the graph \n",
    "viz1.bar_label(viz1.containers[0],label_type='edge');"
   ]
  },
  {
   "cell_type": "markdown",
   "metadata": {},
   "source": [
    "Findings: The top 3 with most counted models were DELL, ASUS and Lenovo\n",
    "\n"
   ]
  },
  {
   "cell_type": "markdown",
   "metadata": {},
   "source": [
    "It's also interesting to learn about the popularity of each processing cores among the laptops in the dataset"
   ]
  },
  {
   "cell_type": "code",
   "execution_count": 24,
   "metadata": {
    "execution": {
     "iopub.execute_input": "2022-05-02T18:39:24.499847Z",
     "iopub.status.busy": "2022-05-02T18:39:24.499477Z",
     "iopub.status.idle": "2022-05-02T18:39:24.920551Z",
     "shell.execute_reply": "2022-05-02T18:39:24.919910Z",
     "shell.execute_reply.started": "2022-05-02T18:39:24.499817Z"
    }
   },
   "outputs": [
    {
     "data": {
      "image/png": "[encoded data removed]",
      "text/plain": [
       "<Figure size 864x576 with 1 Axes>"
      ]
     },
     "metadata": {
      "needs_background": "light"
     },
     "output_type": "display_data"
    }
   ],
   "source": [
    "#create sub dataframe for visualization\n",
    "processor_c = laptop.groupby('Processor')[['Model']].count()\n",
    "processor_c = processor_c.sort_values('Model',ascending = False)\n",
    "\n",
    "#create a bar graph\n",
    "viz2=processor_c.plot(kind='bar', figsize=(12,8))\n",
    "\n",
    "#setting graph title\n",
    "plt.title('Processor popularity')\n",
    "\n",
    "#creating data label for the graph\n",
    "viz2.bar_label(viz2.containers[0], label_type='edge', color='black',rotation= 90, fontsize=8, padding = 3);\n",
    "\n",
    "\n",
    "\n"
   ]
  },
  {
   "cell_type": "markdown",
   "metadata": {},
   "source": [
    "Findings: The i3 and i5 cores took dominance among the laptops in the dataset"
   ]
  },
  {
   "cell_type": "markdown",
   "metadata": {},
   "source": [
    "Next is a visualization to better understand RAM sizes (GB) popularities among the laptops in the dataset "
   ]
  },
  {
   "cell_type": "code",
   "execution_count": 25,
   "metadata": {
    "execution": {
     "iopub.execute_input": "2022-05-02T18:39:24.921962Z",
     "iopub.status.busy": "2022-05-02T18:39:24.921634Z",
     "iopub.status.idle": "2022-05-02T18:39:25.157026Z",
     "shell.execute_reply": "2022-05-02T18:39:25.156059Z",
     "shell.execute_reply.started": "2022-05-02T18:39:24.921933Z"
    }
   },
   "outputs": [
    {
     "data": {
      "image/png": "[encoded data removed]",
      "text/plain": [
       "<Figure size 360x360 with 1 Axes>"
      ]
     },
     "metadata": {},
     "output_type": "display_data"
    }
   ],
   "source": [
    "#pie chart for Ram size \n",
    "#sub dataframe for the pie chart \n",
    "ram_size = laptop.groupby('RAM')[['Brand']].count()\n",
    "\n",
    "#pie chart creating \n",
    "ram_pie = ram_size.plot(kind='pie',y='Brand', figsize=(5,5),autopct='%.1f%%')\n",
    "\n",
    "#set up chart's name\n",
    "ram_pie=plt.title('RAM size (GB) popularity over total device count')\n"
   ]
  },
  {
   "cell_type": "markdown",
   "metadata": {},
   "source": [
    "Findings: Ram size of 8GB is the most popular among the laptops in the data set"
   ]
  },
  {
   "cell_type": "markdown",
   "metadata": {},
   "source": [
    "## Correlations between attributes and 'Price'"
   ]
  },
  {
   "cell_type": "markdown",
   "metadata": {},
   "source": [
    "We curios about what could be affecting the Price of the laptop"
   ]
  },
  {
   "cell_type": "code",
   "execution_count": 26,
   "metadata": {},
   "outputs": [
    {
     "data": {
      "text/html": [
       "<div>\n",
       "<style scoped>\n",
       "    .dataframe tbody tr th:only-of-type {\n",
       "        vertical-align: middle;\n",
       "    }\n",
       "\n",
       "    .dataframe tbody tr th {\n",
       "        vertical-align: top;\n",
       "    }\n",
       "\n",
       "    .dataframe thead th {\n",
       "        text-align: right;\n",
       "    }\n",
       "</style>\n",
       "<table border=\"1\" class=\"dataframe\">\n",
       "  <thead>\n",
       "    <tr style=\"text-align: right;\">\n",
       "      <th></th>\n",
       "      <th>RAM</th>\n",
       "      <th>Rating</th>\n",
       "      <th>Price</th>\n",
       "    </tr>\n",
       "  </thead>\n",
       "  <tbody>\n",
       "    <tr>\n",
       "      <th>RAM</th>\n",
       "      <td>1.000000</td>\n",
       "      <td>0.240383</td>\n",
       "      <td>0.685747</td>\n",
       "    </tr>\n",
       "    <tr>\n",
       "      <th>Rating</th>\n",
       "      <td>0.240383</td>\n",
       "      <td>1.000000</td>\n",
       "      <td>0.442159</td>\n",
       "    </tr>\n",
       "    <tr>\n",
       "      <th>Price</th>\n",
       "      <td>0.685747</td>\n",
       "      <td>0.442159</td>\n",
       "      <td>1.000000</td>\n",
       "    </tr>\n",
       "  </tbody>\n",
       "</table>\n",
       "</div>"
      ],
      "text/plain": [
       "             RAM    Rating     Price\n",
       "RAM     1.000000  0.240383  0.685747\n",
       "Rating  0.240383  1.000000  0.442159\n",
       "Price   0.685747  0.442159  1.000000"
      ]
     },
     "execution_count": 26,
     "metadata": {},
     "output_type": "execute_result"
    }
   ],
   "source": [
    "laptop.corr()"
   ]
  },
  {
   "cell_type": "code",
   "execution_count": 28,
   "metadata": {},
   "outputs": [
    {
     "data": {
      "text/plain": [
       "RAM       0.685747\n",
       "Rating    0.442159\n",
       "Price     1.000000\n",
       "Name: Price, dtype: float64"
      ]
     },
     "execution_count": 28,
     "metadata": {},
     "output_type": "execute_result"
    }
   ],
   "source": [
    "laptop.corr()['Price']"
   ]
  },
  {
   "cell_type": "markdown",
   "metadata": {},
   "source": [
    "The numeric columns like RAM and Rating have heavy correlation with the laptop Price, we will later visualize the non numeric attributes and also the numeric one to better understand it"
   ]
  },
  {
   "cell_type": "code",
   "execution_count": 30,
   "metadata": {
    "execution": {
     "iopub.execute_input": "2022-05-02T18:55:43.287759Z",
     "iopub.status.busy": "2022-05-02T18:55:43.287470Z",
     "iopub.status.idle": "2022-05-02T18:55:43.652375Z",
     "shell.execute_reply": "2022-05-02T18:55:43.651231Z",
     "shell.execute_reply.started": "2022-05-02T18:55:43.287731Z"
    }
   },
   "outputs": [
    {
     "name": "stderr",
     "output_type": "stream",
     "text": [
      "/Users/Me/opt/anaconda3/lib/python3.9/site-packages/seaborn/distributions.py:2619: FutureWarning: `distplot` is a deprecated function and will be removed in a future version. Please adapt your code to use either `displot` (a figure-level function with similar flexibility) or `histplot` (an axes-level function for histograms).\n",
      "  warnings.warn(msg, FutureWarning)\n"
     ]
    },
    {
     "data": {
      "image/png": "[encoded data removed]",
      "text/plain": [
       "<Figure size 432x288 with 1 Axes>"
      ]
     },
     "metadata": {
      "needs_background": "light"
     },
     "output_type": "display_data"
    }
   ],
   "source": [
    "\n",
    "import seaborn as sns\n",
    "sns.distplot(laptop['Price'])\n",
    "plt.show()"
   ]
  },
  {
   "cell_type": "markdown",
   "metadata": {},
   "source": [
    "Laptop price is skewed to the left side of the distribution. Laptop are sold most at the price of 400$, which is an affordable price"
   ]
  },
  {
   "cell_type": "markdown",
   "metadata": {},
   "source": [
    "Next, we will investigate the price range base on the brand of the laptop"
   ]
  },
  {
   "cell_type": "code",
   "execution_count": 28,
   "metadata": {
    "execution": {
     "iopub.execute_input": "2022-05-02T18:55:52.288563Z",
     "iopub.status.busy": "2022-05-02T18:55:52.288254Z",
     "iopub.status.idle": "2022-05-02T18:55:52.820209Z",
     "shell.execute_reply": "2022-05-02T18:55:52.819346Z",
     "shell.execute_reply.started": "2022-05-02T18:55:52.288534Z"
    }
   },
   "outputs": [
    {
     "data": {
      "image/png": "[encoded data removed]",
      "text/plain": [
       "<Figure size 432x288 with 1 Axes>"
      ]
     },
     "metadata": {
      "needs_background": "light"
     },
     "output_type": "display_data"
    }
   ],
   "source": [
    "#creating barplot\n",
    "sns.barplot(x=laptop['Brand'],y=laptop['Price'])\n",
    "plt.xticks(rotation='vertical')\n",
    "plt.show()"
   ]
  },
  {
   "cell_type": "markdown",
   "metadata": {},
   "source": [
    "Finding: 'Apple' & 'Microsoft' has a very high average price of 800, only Apple goes above 1000$ price point\n"
   ]
  },
  {
   "cell_type": "markdown",
   "metadata": {},
   "source": [
    "It is also interesting to learn if the Rating is affected by the Price of the laptop"
   ]
  },
  {
   "cell_type": "code",
   "execution_count": 29,
   "metadata": {
    "execution": {
     "iopub.execute_input": "2022-05-02T18:55:56.839525Z",
     "iopub.status.busy": "2022-05-02T18:55:56.838999Z",
     "iopub.status.idle": "2022-05-02T18:55:57.156306Z",
     "shell.execute_reply": "2022-05-02T18:55:57.155364Z",
     "shell.execute_reply.started": "2022-05-02T18:55:56.839484Z"
    }
   },
   "outputs": [
    {
     "data": {
      "text/plain": [
       "<AxesSubplot:xlabel='Rating', ylabel='Price'>"
      ]
     },
     "execution_count": 29,
     "metadata": {},
     "output_type": "execute_result"
    },
    {
     "data": {
      "image/png": "[encoded data removed]",
      "text/plain": [
       "<Figure size 432x288 with 1 Axes>"
      ]
     },
     "metadata": {
      "needs_background": "light"
     },
     "output_type": "display_data"
    }
   ],
   "source": [
    "sns.scatterplot(x=laptop['Rating'],y=laptop['Price']) "
   ]
  },
  {
   "cell_type": "markdown",
   "metadata": {},
   "source": [
    "The most dense rating group is around 4.00 to 4.625 of Rating and 300$ to 800$ in Price.\n",
    "It is shown that there is a positive correlation between Price and Rating, the higher the Price the higher the Rating"
   ]
  },
  {
   "cell_type": "markdown",
   "metadata": {},
   "source": [
    "We will also check for the correlation between RAM size and the laptop's Price"
   ]
  },
  {
   "cell_type": "code",
   "execution_count": 30,
   "metadata": {
    "execution": {
     "iopub.execute_input": "2022-05-02T18:56:13.150045Z",
     "iopub.status.busy": "2022-05-02T18:56:13.149733Z",
     "iopub.status.idle": "2022-05-02T18:56:13.485226Z",
     "shell.execute_reply": "2022-05-02T18:56:13.484174Z",
     "shell.execute_reply.started": "2022-05-02T18:56:13.150011Z"
    }
   },
   "outputs": [
    {
     "data": {
      "image/png": "[encoded data removed]",
      "text/plain": [
       "<Figure size 432x288 with 1 Axes>"
      ]
     },
     "metadata": {
      "needs_background": "light"
     },
     "output_type": "display_data"
    }
   ],
   "source": [
    "sns.scatterplot(x=laptop['RAM'], y=laptop['Price']);\n"
   ]
  },
  {
   "cell_type": "markdown",
   "metadata": {},
   "source": [
    "Finding: The higher the RAM size, the higher the Price"
   ]
  },
  {
   "cell_type": "markdown",
   "metadata": {},
   "source": [
    "Next is correlation between Hard disk and Price"
   ]
  },
  {
   "cell_type": "code",
   "execution_count": 53,
   "metadata": {
    "execution": {
     "iopub.execute_input": "2022-05-02T18:49:37.241250Z",
     "iopub.status.busy": "2022-05-02T18:49:37.240668Z",
     "iopub.status.idle": "2022-05-02T18:49:37.524469Z",
     "shell.execute_reply": "2022-05-02T18:49:37.523639Z",
     "shell.execute_reply.started": "2022-05-02T18:49:37.241200Z"
    }
   },
   "outputs": [
    {
     "data": {
      "image/png": "[encoded data removed]",
      "text/plain": [
       "<Figure size 864x1152 with 1 Axes>"
      ]
     },
     "metadata": {},
     "output_type": "display_data"
    }
   ],
   "source": [
    "sns.scatterplot(x=laptop['Hard_Disk_Capacity'], y=laptop['Price']);\n",
    "sns.set(rc={'figure.figsize':(11,16)})"
   ]
  },
  {
   "cell_type": "markdown",
   "metadata": {},
   "source": [
    "No, the hard disk capacity does not have an critical impact on the price of the laptop.\n",
    "Most of the population lies on 1TB HDD, 512GB SSD, 256GB SSD"
   ]
  },
  {
   "cell_type": "markdown",
   "metadata": {},
   "source": [
    "Next is Correlation between Processor Brand and laptop Price"
   ]
  },
  {
   "cell_type": "code",
   "execution_count": 32,
   "metadata": {
    "execution": {
     "iopub.execute_input": "2022-05-02T18:56:17.650121Z",
     "iopub.status.busy": "2022-05-02T18:56:17.649798Z",
     "iopub.status.idle": "2022-05-02T18:56:17.978018Z",
     "shell.execute_reply": "2022-05-02T18:56:17.976775Z",
     "shell.execute_reply.started": "2022-05-02T18:56:17.650087Z"
    }
   },
   "outputs": [
    {
     "data": {
      "image/png": "[encoded data removed]",
      "text/plain": [
       "<Figure size 432x288 with 1 Axes>"
      ]
     },
     "metadata": {
      "needs_background": "light"
     },
     "output_type": "display_data"
    }
   ],
   "source": [
    "sns.scatterplot(x=laptop['Processor_brand'],y=laptop['Price'])\n",
    "plt.xticks(rotation='vertical')\n",
    "plt.show()"
   ]
  },
  {
   "cell_type": "markdown",
   "metadata": {},
   "source": [
    "We can see from the graph that Intel and AMD laptops have much concentrate price range than the other Processor brand"
   ]
  },
  {
   "cell_type": "code",
   "execution_count": 33,
   "metadata": {},
   "outputs": [
    {
     "data": {
      "image/png": "[encoded data removed]",
      "text/plain": [
       "<Figure size 432x288 with 1 Axes>"
      ]
     },
     "metadata": {
      "needs_background": "light"
     },
     "output_type": "display_data"
    }
   ],
   "source": [
    "sns.barplot(x=laptop['Processor_brand'],y=laptop['Price'])\n",
    "plt.xticks(rotation='vertical')\n",
    "plt.show()"
   ]
  },
  {
   "cell_type": "markdown",
   "metadata": {},
   "source": [
    "AMD and Intel, both of them have a lower than mean Price in the dataset"
   ]
  },
  {
   "cell_type": "code",
   "execution_count": null,
   "metadata": {
    "execution": {
     "iopub.execute_input": "2022-05-02T19:28:37.722732Z",
     "iopub.status.busy": "2022-05-02T19:28:37.722462Z",
     "iopub.status.idle": "2022-05-02T19:28:37.748990Z",
     "shell.execute_reply": "2022-05-02T19:28:37.748394Z",
     "shell.execute_reply.started": "2022-05-02T19:28:37.722703Z"
    },
    "scrolled": true
   },
   "outputs": [],
   "source": []
  },
  {
   "cell_type": "code",
   "execution_count": null,
   "metadata": {
    "execution": {
     "iopub.execute_input": "2022-05-02T19:36:09.360110Z",
     "iopub.status.busy": "2022-05-02T19:36:09.358996Z",
     "iopub.status.idle": "2022-05-02T19:36:09.380293Z",
     "shell.execute_reply": "2022-05-02T19:36:09.379407Z",
     "shell.execute_reply.started": "2022-05-02T19:36:09.360064Z"
    }
   },
   "outputs": [],
   "source": []
  },
  {
   "cell_type": "code",
   "execution_count": null,
   "metadata": {},
   "outputs": [],
   "source": []
  },
  {
   "cell_type": "code",
   "execution_count": null,
   "metadata": {},
   "outputs": [],
   "source": []
  },
  {
   "cell_type": "code",
   "execution_count": null,
   "metadata": {},
   "outputs": [],
   "source": []
  },
  {
   "cell_type": "code",
   "execution_count": null,
   "metadata": {},
   "outputs": [],
   "source": []
  }
 ],
 "metadata": {
  "kernelspec": {
   "display_name": "Python 3 (ipykernel)",
   "language": "python",
   "name": "python3"
  },
  "language_info": {
   "codemirror_mode": {
    "name": "ipython",
    "version": 3
   },
   "file_extension": ".py",
   "mimetype": "text/x-python",
   "name": "python",
   "nbconvert_exporter": "python",
   "pygments_lexer": "ipython3",
   "version": "3.9.7"
  }
 },
 "nbformat": 4,
 "nbformat_minor": 4
}
